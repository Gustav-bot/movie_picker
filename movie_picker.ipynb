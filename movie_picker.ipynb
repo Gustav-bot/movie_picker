{
 "cells": [
  {
   "cell_type": "code",
   "execution_count": 13,
   "metadata": {},
   "outputs": [
    {
     "data": {
      "text/plain": [
       "True"
      ]
     },
     "execution_count": 13,
     "metadata": {},
     "output_type": "execute_result"
    }
   ],
   "source": [
    "import requests\n",
    "import os\n",
    "from dotenv import load_dotenv\n",
    "import json\n",
    "\n",
    "load_dotenv()\n",
    "\n",
    "\n",
    "apikey = os.getenv('API_KEY')\n",
    "print(apikey)\n",
    "request = \"https://api.themoviedb.org/3/movie/popular?api_key={}&language=en-US&page=1\".format(apikey)\n",
    "r = requests.get(request)\n",
    "print(r.content)\n",
    "data_as_json = r.json()\n"
   ]
  },
  {
   "cell_type": "code",
   "execution_count": 36,
   "metadata": {},
   "outputs": [
    {
     "name": "stdout",
     "output_type": "stream",
     "text": [
      "{'adult': False, 'backdrop_path': '/tUBN1paMQ1tmVA5Sjy1ZjPWVsiF.jpg', 'genre_ids': [12, 16, 35, 10751, 14], 'id': 676701, 'original_language': 'es', 'original_title': 'Tadeo Jones 3: La Tabla Esmeralda', 'overview': 'Tad would love for his archeologist colleagues to accept him as one of their own, but he always messes everything up. Tad accidentally destroys a sarcophagus and unleashes an ancient spell endangering the lives of his friends: Mummy, Jeff and Belzoni. With everyone against him and only helped by Sara, he sets off on an adventure that will take him from Mexico to Chicago and from Paris to Egypt, in order to put an end to the curse of the Mummy.', 'popularity': 1072.807, 'poster_path': '/jvIVl8zdNSOAJImw1elQEzxStMN.jpg', 'release_date': '2022-08-24', 'title': 'Tad the Lost Explorer and the Emerald Tablet', 'video': False, 'vote_average': 7.8, 'vote_count': 108}\n"
     ]
    }
   ],
   "source": [
    "#simple function to return best movie by voter average, maybe instead of single movie make stack and you can then keep going until good movie is found.\n",
    "data = data_as_json[\"results\"]\n",
    "score = 0\n",
    "best = data[0]\n",
    "for movie in data:\n",
    "    if movie[\"vote_average\"] > score and movie:\n",
    "        best = movie\n",
    "        score = movie[\"vote_average\"]\n",
    "print(best)"
   ]
  }
 ],
 "metadata": {
  "kernelspec": {
   "display_name": "Python 3.10.6 ('env': venv)",
   "language": "python",
   "name": "python3"
  },
  "language_info": {
   "codemirror_mode": {
    "name": "ipython",
    "version": 3
   },
   "file_extension": ".py",
   "mimetype": "text/x-python",
   "name": "python",
   "nbconvert_exporter": "python",
   "pygments_lexer": "ipython3",
   "version": "3.10.6"
  },
  "orig_nbformat": 4,
  "vscode": {
   "interpreter": {
    "hash": "a145a896ff0ec896f73d54d16ec5d582cfd67bfb5958f07b8e945fef4d28a8d9"
   }
  }
 },
 "nbformat": 4,
 "nbformat_minor": 2
}
