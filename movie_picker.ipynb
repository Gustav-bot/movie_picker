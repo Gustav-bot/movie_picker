{
 "cells": [
  {
   "cell_type": "code",
   "execution_count": 27,
   "metadata": {},
   "outputs": [],
   "source": [
    "import requests\n",
    "import os\n",
    "from dotenv import load_dotenv\n",
    "from IPython.display import Image\n",
    "\n",
    "load_dotenv()\n",
    "apikey = os.getenv('API_KEY')\n",
    "\n",
    "def sort_func(e):\n",
    "    value = e['vote_average']\n",
    "    return float(value)\n",
    "def get_list_of_movies_sorted_rating():\n",
    "    request = \"https://api.themoviedb.org/3/movie/popular?api_key={}&language=en-US\".format(apikey)\n",
    "    r = requests.get(request)\n",
    "    data_as_json = r.json()\n",
    "    data = data_as_json[\"results\"]\n",
    "    data.sort( reverse = True, key = sort_func)\n",
    "    return data\n",
    "\n",
    "\n",
    "def get_image_from_path(path):\n",
    "    url = \"https://image.tmdb.org/t/p/w500\"\n",
    "    new_url = url + path\n",
    "    image_request = requests.get(new_url)\n",
    "    return Image(image_request.content)\n",
    "\n"
   ]
  }
 ],
 "metadata": {
  "kernelspec": {
   "display_name": "Python 3.10.6 ('env': venv)",
   "language": "python",
   "name": "python3"
  },
  "language_info": {
   "codemirror_mode": {
    "name": "ipython",
    "version": 3
   },
   "file_extension": ".py",
   "mimetype": "text/x-python",
   "name": "python",
   "nbconvert_exporter": "python",
   "pygments_lexer": "ipython3",
   "version": "3.10.6"
  },
  "orig_nbformat": 4,
  "vscode": {
   "interpreter": {
    "hash": "a145a896ff0ec896f73d54d16ec5d582cfd67bfb5958f07b8e945fef4d28a8d9"
   }
  }
 },
 "nbformat": 4,
 "nbformat_minor": 2
}
