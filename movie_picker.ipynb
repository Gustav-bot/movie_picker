{
 "cells": [
  {
   "cell_type": "code",
   "execution_count": 3,
   "metadata": {},
   "outputs": [],
   "source": [
    "import requests\n",
    "import os\n",
    "from dotenv import load_dotenv\n",
    "from IPython.display import Image\n",
    "\n",
    "load_dotenv()\n",
    "apikey = os.getenv('API_KEY')\n",
    "\n",
    "def sort_func(e):\n",
    "    value = e['vote_average']\n",
    "    return float(value)\n",
    "\n",
    "def get_list_of_movies_sorted_rating():\n",
    "    request = \"https://api.themoviedb.org/3/trending/movie/week?api_key={}&language=en-US\".format(apikey)\n",
    "    r = requests.get(request)\n",
    "    data_as_json = r.json()\n",
    "    data = data_as_json[\"results\"]\n",
    "    data.sort( reverse = True, key = sort_func)\n",
    "    return data\n",
    "\n",
    "def get_image_from_path(path):\n",
    "    url = \"https://image.tmdb.org/t/p/w500\"\n",
    "    new_url = url + path\n",
    "    image_request = requests.get(new_url)\n",
    "    return Image(image_request.content)\n"
   ]
  },
  {
   "cell_type": "code",
   "execution_count": 4,
   "metadata": {},
   "outputs": [
    {
     "name": "stdout",
     "output_type": "stream",
     "text": [
      "{'adult': False, 'backdrop_path': '/AaV1YIdWKnjAIAOe8UUKBFm327v.jpg', 'id': 361743, 'title': 'Top Gun: Maverick', 'original_language': 'en', 'original_title': 'Top Gun: Maverick', 'overview': 'After more than thirty years of service as one of the Navy’s top aviators, and dodging the advancement in rank that would ground him, Pete “Maverick” Mitchell finds himself training a detachment of TOP GUN graduates for a specialized mission the likes of which no living pilot has ever seen.', 'poster_path': '/62HCnUTziyWcpDaBO2i1DX17ljH.jpg', 'media_type': 'movie', 'genre_ids': [28, 18], 'popularity': 617.564, 'release_date': '2022-05-24', 'video': False, 'vote_average': 8.3, 'vote_count': 4841}\n"
     ]
    }
   ],
   "source": [
    "movies = get_list_of_movies_sorted_rating()\n",
    "print(movies[0])"
   ]
  },
  {
   "cell_type": "code",
   "execution_count": 5,
   "metadata": {},
   "outputs": [],
   "source": [
    "def show_movies(movie_list):\n",
    "    quit = True\n",
    "    for movies in movie_list:\n",
    "        print(movies['title'])"
   ]
  },
  {
   "cell_type": "code",
   "execution_count": null,
   "metadata": {},
   "outputs": [],
   "source": [
    "show_movies(movies)"
   ]
  },
  {
   "cell_type": "code",
   "execution_count": 34,
   "metadata": {},
   "outputs": [
    {
     "name": "stdout",
     "output_type": "stream",
     "text": [
      "<Response [200]>\n",
      "<class 'list'>\n",
      "Black Adam\n",
      "R.I.P.D. 2: Rise of the Damned\n",
      "Disenchanted\n",
      "Black Panther: Wakanda Forever\n",
      "Smile\n",
      "Sniper: The White Raven\n",
      "Paradise City\n",
      "Hex\n",
      "Medieval\n",
      "Emily the Criminal\n",
      "Lost Bullet 2\n",
      "Enola Holmes 2\n",
      "Tad the Lost Explorer and the Emerald Tablet\n",
      "Terrifier 2\n",
      "On the Line\n",
      "Frank and Penelope\n",
      "Margaux\n",
      "Fall\n",
      "Corrective Measures\n",
      "The Lair\n"
     ]
    }
   ],
   "source": [
    "r = requests.get(\"https://api.themoviedb.org/3/discover/movie?api_key={}&language=en-US&sort_by=popularity.desc&include_adult=false&include_video=false&page=1&with_watch_monetization_types=flatrate\".format(apikey))\n",
    "print(r)\n",
    "data = r.json()\n",
    "data = data['results']\n",
    "print(type(data))\n",
    "for movie in data:\n",
    "    print(movie[\"title\"])"
   ]
  }
 ],
 "metadata": {
  "kernelspec": {
   "display_name": "Python 3.10.6 ('env': venv)",
   "language": "python",
   "name": "python3"
  },
  "language_info": {
   "codemirror_mode": {
    "name": "ipython",
    "version": 3
   },
   "file_extension": ".py",
   "mimetype": "text/x-python",
   "name": "python",
   "nbconvert_exporter": "python",
   "pygments_lexer": "ipython3",
   "version": "3.10.6"
  },
  "orig_nbformat": 4,
  "vscode": {
   "interpreter": {
    "hash": "a145a896ff0ec896f73d54d16ec5d582cfd67bfb5958f07b8e945fef4d28a8d9"
   }
  }
 },
 "nbformat": 4,
 "nbformat_minor": 2
}
